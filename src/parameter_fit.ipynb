{
 "cells": [
  {
   "cell_type": "code",
   "execution_count": 12,
   "id": "45c72a10",
   "metadata": {},
   "outputs": [],
   "source": [
    "import pandas as pd\n",
    "import numpy as np\n",
    "import sympy as sp\n",
    "import matplotlib.pyplot as plt\n",
    "import sys\n",
    "import os\n",
    "from scipy.optimize import minimize\n",
    "\n",
    "sys.path.append(os.path.dirname(os.getcwd()))\n",
    "\n",
    "from lib.sympy_helper import normalise\n",
    "from lib.sampler import generate_reference_data"
   ]
  },
  {
   "cell_type": "code",
   "execution_count": 13,
   "id": "e68d8c0f",
   "metadata": {},
   "outputs": [],
   "source": [
    "csv_path = f\"../outputs/max-corr-5/hall_of_fame.csv\"\n",
    "equation_df = pd.read_csv(csv_path)\n",
    "best_equation = equation_df.iloc[-1]['Equation']\n",
    "sympy_expr = sp.sympify(best_equation)\n",
    "sympy_expr_clean = normalise(sympy_expr)"
   ]
  },
  {
   "cell_type": "code",
   "execution_count": 14,
   "id": "9057e6db",
   "metadata": {},
   "outputs": [
    {
     "name": "stdout",
     "output_type": "stream",
     "text": [
      "\\left|{\\left(x_{2} \\left(c_{0} + c_{1} x_{2} + c_{2}^{c_{3}} x_{2} + c_{4} \\left(c_{15} + c_{16} x_{3}^{c_{9}} \\left(c_{17} + x_{2}\\right)\\right) \\left(c_{18}^{c_{19}} + x_{3}\\right) \\left(x_{2} + \\left(c_{10} c_{12}^{c_{13}} x_{1}^{c_{11}} + c_{14} x_{1} x_{2}\\right) \\left|{c_{5} + c_{6} x_{1}^{c_{7}} + c_{8} x_{2}}\\right|^{c_{9}}\\right)^{c_{9}}\\right)^{c_{9}}\\right)^{c_{20}}}\\right|^{c_{19}}\n"
     ]
    }
   ],
   "source": [
    "def _new_const(counter):\n",
    "    name = f'c{counter}'\n",
    "    return sp.Symbol(name)\n",
    "\n",
    "replacements = {}\n",
    "default_values = []\n",
    "constants = []\n",
    "counter = 0\n",
    "for node in sp.preorder_traversal(sympy_expr_clean):    \n",
    "    if isinstance(node, sp.Number) and node not in replacements:\n",
    "        c = _new_const(counter)\n",
    "        counter += 1\n",
    "        replacements[node] = c\n",
    "        default_values.append(node)\n",
    "        constants.append(c)\n",
    "\n",
    "expr_with_constants = sympy_expr_clean.xreplace(replacements)\n",
    "\n",
    "# TEMP: UNSAFE FIX FOR NEGATIVE BASES\n",
    "# def is_unsafe_pow(expr):\n",
    "#     return isinstance(expr, sp.Pow) and not expr.exp.is_integer\n",
    "\n",
    "# def safe_pow_replacement(expr):\n",
    "#     return sp.Pow(sp.Abs(expr.base), expr.exp)\n",
    "# expr_with_constants = expr_with_constants.replace(is_unsafe_pow, safe_pow_replacement)\n",
    "\n",
    "l = sp.latex(expr_with_constants)\n",
    "print(l)\n"
   ]
  },
  {
   "cell_type": "code",
   "execution_count": 15,
   "id": "b7f62949",
   "metadata": {},
   "outputs": [],
   "source": [
    "_vars = ['x1'] + constants"
   ]
  },
  {
   "cell_type": "code",
   "execution_count": 16,
   "id": "a2f5d25d",
   "metadata": {},
   "outputs": [
    {
     "data": {
      "text/latex": [
       "$\\displaystyle \\left|{\\left(\\frac{x_{2}}{1.355900186947505 x_{2} + \\frac{\\left(1883.3828630902532 - \\frac{8.5108364985610056 \\left(x_{2} - 44.674122117495778\\right)}{x_{3}}\\right) \\left(x_{3} + 6.2103270637693174\\right)}{x_{2} + \\frac{59.30217941577672 - 0.45347519177667666 x_{2}}{\\left|{0.05528710792205269 x_{2} - 25.076925892914443}\\right|}} - 101.64243612640218}\\right)^{0.9427448586559175}}\\right|^{2}$"
      ],
      "text/plain": [
       "Abs((x2/(1.355900186947505*x2 + (1883.3828630902532 - 8.5108364985610056*(x2 - 44.674122117495778)/x3)*(x3 + 6.2103270637693174)/(x2 + (59.30217941577672 - 0.45347519177667666*x2)/Abs(0.05528710792205269*x2 - 25.076925892914443)) - 101.64243612640218))**0.9427448586559175)**2"
      ]
     },
     "execution_count": 16,
     "metadata": {},
     "output_type": "execute_result"
    }
   ],
   "source": [
    "python_fn  = sp.lambdify(_vars, expr_with_constants, modules='numpy')\n",
    "# (diameter, *constant_values)\n",
    "python_fn(1e-3, *default_values)"
   ]
  },
  {
   "cell_type": "code",
   "execution_count": 17,
   "id": "0e7b5e45",
   "metadata": {},
   "outputs": [],
   "source": [
    "df = generate_reference_data(10_000)\n",
    "\n",
    "def loss_fn(params: np.ndarray):\n",
    "    \"\"\"Implements mean squared relative error\n",
    "\n",
    "    Args:\n",
    "        params (np.ndarray): input of constants array\n",
    "    \"\"\"\n",
    "    y_pred = python_fn(df['diameter'].values, *params)\n",
    "    loss = (np.abs(df['v_t'] - y_pred) / df['v_t']) ** 2\n",
    "    return np.mean(loss)\n",
    "    # loss = (np.abs(df['v_t'] - y_pred) / df['v_t'])\n",
    "    # return np.max(loss)"
   ]
  },
  {
   "cell_type": "code",
   "execution_count": null,
   "id": "3ee0b614",
   "metadata": {},
   "outputs": [],
   "source": [
    "starting_loss = loss_fn(default_values)"
   ]
  },
  {
   "cell_type": "code",
   "execution_count": null,
   "id": "be6062ab",
   "metadata": {},
   "outputs": [
    {
     "name": "stderr",
     "output_type": "stream",
     "text": [
      "<lambdifygenerated-1>:2: RuntimeWarning: invalid value encountered in power\n",
      "  return (c0*(c1 + c19*x1**c3 + c2*(c14*(c15 + c16*x1*(c17 + c18*x1)**c3)**c3 + c3*abs(c4 + c5*(c6 + c7*x1**c3)**c3 + c8*x1**c9*(c10 + c11*x1)**c3*(c12 + c13*x1)**c3))**c3)**c3)**c9\n"
     ]
    }
   ],
   "source": [
    "result = minimize(loss_fn, default_values, method='L-BFGS-B')\n",
    "final_loss = loss_fn(result.x)"
   ]
  },
  {
   "cell_type": "code",
   "execution_count": null,
   "id": "efc576b0",
   "metadata": {},
   "outputs": [
    {
     "name": "stdout",
     "output_type": "stream",
     "text": [
      "7.511155267543588e-06 7.511155267543649e-06\n"
     ]
    }
   ],
   "source": [
    "print(starting_loss, final_loss)"
   ]
  }
 ],
 "metadata": {
  "kernelspec": {
   "display_name": "Python 3",
   "language": "python",
   "name": "python3"
  },
  "language_info": {
   "codemirror_mode": {
    "name": "ipython",
    "version": 3
   },
   "file_extension": ".py",
   "mimetype": "text/x-python",
   "name": "python",
   "nbconvert_exporter": "python",
   "pygments_lexer": "ipython3",
   "version": "3.12.3"
  }
 },
 "nbformat": 4,
 "nbformat_minor": 5
}
