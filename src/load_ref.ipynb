{
 "cells": [
  {
   "cell_type": "code",
   "execution_count": 1,
   "id": "38add2c6",
   "metadata": {},
   "outputs": [],
   "source": [
    "\n",
    "import numpy as np\n",
    "import pandas as pd\n",
    "import sys\n",
    "from __future__ import annotations\n",
    "import os\n",
    "\n",
    "sys.path.append(os.path.dirname(os.getcwd()))\n",
    "\n",
    "from lib.fast_velocity import beard_terminal_velocity_numba\n",
    "from lib.sympy_helper import get_function_from_output"
   ]
  },
  {
   "cell_type": "code",
   "execution_count": 2,
   "id": "6438c96b",
   "metadata": {},
   "outputs": [],
   "source": [
    "diameter = np.logspace(np.log10(1e-6), np.log10(7e-3), 10_000)\n",
    "temperature = np.full_like(diameter, 285)\n",
    "pressure = np.full_like(diameter, 90_000)\n",
    "\n",
    "simple_df = pd.DataFrame({\n",
    "    'diameter': diameter,\n",
    "    'temperature': temperature,\n",
    "    'pressure': pressure,\n",
    "})\n",
    "simple_df['v_t'] = beard_terminal_velocity_numba(simple_df['diameter'].values, simple_df['temperature'].values, simple_df['pressure'].values)"
   ]
  },
  {
   "cell_type": "code",
   "execution_count": 3,
   "id": "83f07680",
   "metadata": {},
   "outputs": [],
   "source": [
    "ref_func = get_function_from_output(\"msre-ref-4\")\n",
    "ref_50_func = get_function_from_output(\"msre-ref-4\", 50)"
   ]
  },
  {
   "cell_type": "code",
   "execution_count": 4,
   "id": "ed0ffd0d",
   "metadata": {},
   "outputs": [],
   "source": [
    "simple_df['ref_vt'] = simple_df.apply(lambda row: float(ref_func(row['diameter'])), axis=1)\n",
    "simple_df['ref_abs'] = np.abs(simple_df['v_t'] - simple_df['ref_vt'])\n",
    "simple_df['ref_rel'] = simple_df['ref_abs'] / simple_df['v_t']\n",
    "\n",
    "simple_df['ref_50_vt'] = simple_df.apply(lambda row: float(ref_50_func(row['diameter'])), axis=1)\n",
    "simple_df['ref_50_abs'] = np.abs(simple_df['v_t'] - simple_df['ref_50_vt'])\n",
    "simple_df['ref_50_rel'] = simple_df['ref_50_abs'] / simple_df['v_t']"
   ]
  },
  {
   "cell_type": "code",
   "execution_count": 5,
   "id": "7dc84307",
   "metadata": {},
   "outputs": [
    {
     "data": {
      "text/html": [
       "<div>\n",
       "<style scoped>\n",
       "    .dataframe tbody tr th:only-of-type {\n",
       "        vertical-align: middle;\n",
       "    }\n",
       "\n",
       "    .dataframe tbody tr th {\n",
       "        vertical-align: top;\n",
       "    }\n",
       "\n",
       "    .dataframe thead th {\n",
       "        text-align: right;\n",
       "    }\n",
       "</style>\n",
       "<table border=\"1\" class=\"dataframe\">\n",
       "  <thead>\n",
       "    <tr style=\"text-align: right;\">\n",
       "      <th></th>\n",
       "      <th>ref_rel</th>\n",
       "      <th>ref_50_rel</th>\n",
       "    </tr>\n",
       "  </thead>\n",
       "  <tbody>\n",
       "    <tr>\n",
       "      <th>count</th>\n",
       "      <td>1.000000e+04</td>\n",
       "      <td>1.000000e+04</td>\n",
       "    </tr>\n",
       "    <tr>\n",
       "      <th>mean</th>\n",
       "      <td>2.031548e-03</td>\n",
       "      <td>6.765398e-03</td>\n",
       "    </tr>\n",
       "    <tr>\n",
       "      <th>std</th>\n",
       "      <td>1.839648e-03</td>\n",
       "      <td>4.987787e-03</td>\n",
       "    </tr>\n",
       "    <tr>\n",
       "      <th>min</th>\n",
       "      <td>4.584754e-07</td>\n",
       "      <td>8.291050e-07</td>\n",
       "    </tr>\n",
       "    <tr>\n",
       "      <th>25%</th>\n",
       "      <td>7.147483e-04</td>\n",
       "      <td>2.819551e-03</td>\n",
       "    </tr>\n",
       "    <tr>\n",
       "      <th>50%</th>\n",
       "      <td>1.357636e-03</td>\n",
       "      <td>5.475555e-03</td>\n",
       "    </tr>\n",
       "    <tr>\n",
       "      <th>75%</th>\n",
       "      <td>2.993409e-03</td>\n",
       "      <td>1.011370e-02</td>\n",
       "    </tr>\n",
       "    <tr>\n",
       "      <th>max</th>\n",
       "      <td>1.045536e-02</td>\n",
       "      <td>2.274975e-02</td>\n",
       "    </tr>\n",
       "  </tbody>\n",
       "</table>\n",
       "</div>"
      ],
      "text/plain": [
       "            ref_rel    ref_50_rel\n",
       "count  1.000000e+04  1.000000e+04\n",
       "mean   2.031548e-03  6.765398e-03\n",
       "std    1.839648e-03  4.987787e-03\n",
       "min    4.584754e-07  8.291050e-07\n",
       "25%    7.147483e-04  2.819551e-03\n",
       "50%    1.357636e-03  5.475555e-03\n",
       "75%    2.993409e-03  1.011370e-02\n",
       "max    1.045536e-02  2.274975e-02"
      ]
     },
     "execution_count": 5,
     "metadata": {},
     "output_type": "execute_result"
    }
   ],
   "source": [
    "simple_df[['ref_rel', 'ref_50_rel']].describe()"
   ]
  },
  {
   "cell_type": "code",
   "execution_count": 6,
   "id": "61ae7f70",
   "metadata": {},
   "outputs": [
    {
     "data": {
      "image/png": "[encoded data removed]",
      "text/plain": [
       "<Figure size 1200x600 with 2 Axes>"
      ]
     },
     "metadata": {},
     "output_type": "display_data"
    }
   ],
   "source": [
    "import matplotlib.pyplot as plt\n",
    "\n",
    "\n",
    "fig, axes = plt.subplots(1, 2, figsize=(12, 6), sharex=True)   # 2 rows × 1 column\n",
    "\n",
    "# --- Plot 1: Beard vs ref_vt ---------------------------------\n",
    "axes[0].plot(simple_df['diameter'] * 1000, simple_df['v_t'],  label='Beard', lw=2)\n",
    "axes[0].plot(simple_df['diameter'] * 1000, simple_df['ref_vt'], label='Model', lw=2)\n",
    "axes[0].set_ylabel('Terminal Velocity (m/s)')\n",
    "axes[0].legend()\n",
    "axes[0].set_title('Beard vs model')            # optional\n",
    "\n",
    "# --- Plot 2: Beard vs ref_50_vt ------------------------------\n",
    "axes[1].plot(simple_df['diameter'] * 1000, simple_df['v_t'],        label='Beard', lw=2)\n",
    "axes[1].plot(simple_df['diameter'] * 1000, simple_df['ref_50_vt'],  label='Model', lw=2)\n",
    "axes[1].set_xlabel('Diameter (m)')\n",
    "axes[1].set_ylabel('Terminal Velocity (m/s)')\n",
    "axes[1].legend()\n",
    "axes[1].set_title('Beard vs model (Minimal)')            # optional\n",
    "\n",
    "plt.tight_layout()\n",
    "plt.show()\n"
   ]
  },
  {
   "cell_type": "code",
   "execution_count": 7,
   "id": "d58bf909",
   "metadata": {},
   "outputs": [
    {
     "data": {
      "text/html": [
       "<div>\n",
       "<style scoped>\n",
       "    .dataframe tbody tr th:only-of-type {\n",
       "        vertical-align: middle;\n",
       "    }\n",
       "\n",
       "    .dataframe tbody tr th {\n",
       "        vertical-align: top;\n",
       "    }\n",
       "\n",
       "    .dataframe thead th {\n",
       "        text-align: right;\n",
       "    }\n",
       "</style>\n",
       "<table border=\"1\" class=\"dataframe\">\n",
       "  <thead>\n",
       "    <tr style=\"text-align: right;\">\n",
       "      <th></th>\n",
       "      <th>diameter</th>\n",
       "      <th>ref_vt</th>\n",
       "    </tr>\n",
       "  </thead>\n",
       "  <tbody>\n",
       "    <tr>\n",
       "      <th>9832</th>\n",
       "      <td>0.006038</td>\n",
       "      <td>9.615581</td>\n",
       "    </tr>\n",
       "    <tr>\n",
       "      <th>9833</th>\n",
       "      <td>0.006043</td>\n",
       "      <td>9.615569</td>\n",
       "    </tr>\n",
       "    <tr>\n",
       "      <th>9834</th>\n",
       "      <td>0.006048</td>\n",
       "      <td>9.615550</td>\n",
       "    </tr>\n",
       "    <tr>\n",
       "      <th>9835</th>\n",
       "      <td>0.006054</td>\n",
       "      <td>9.615525</td>\n",
       "    </tr>\n",
       "    <tr>\n",
       "      <th>9836</th>\n",
       "      <td>0.006059</td>\n",
       "      <td>9.615493</td>\n",
       "    </tr>\n",
       "    <tr>\n",
       "      <th>...</th>\n",
       "      <td>...</td>\n",
       "      <td>...</td>\n",
       "    </tr>\n",
       "    <tr>\n",
       "      <th>9995</th>\n",
       "      <td>0.006975</td>\n",
       "      <td>9.499307</td>\n",
       "    </tr>\n",
       "    <tr>\n",
       "      <th>9996</th>\n",
       "      <td>0.006981</td>\n",
       "      <td>9.497612</td>\n",
       "    </tr>\n",
       "    <tr>\n",
       "      <th>9997</th>\n",
       "      <td>0.006988</td>\n",
       "      <td>9.495900</td>\n",
       "    </tr>\n",
       "    <tr>\n",
       "      <th>9998</th>\n",
       "      <td>0.006994</td>\n",
       "      <td>9.494171</td>\n",
       "    </tr>\n",
       "    <tr>\n",
       "      <th>9999</th>\n",
       "      <td>0.007000</td>\n",
       "      <td>9.492425</td>\n",
       "    </tr>\n",
       "  </tbody>\n",
       "</table>\n",
       "<p>168 rows × 2 columns</p>\n",
       "</div>"
      ],
      "text/plain": [
       "      diameter    ref_vt\n",
       "9832  0.006038  9.615581\n",
       "9833  0.006043  9.615569\n",
       "9834  0.006048  9.615550\n",
       "9835  0.006054  9.615525\n",
       "9836  0.006059  9.615493\n",
       "...        ...       ...\n",
       "9995  0.006975  9.499307\n",
       "9996  0.006981  9.497612\n",
       "9997  0.006988  9.495900\n",
       "9998  0.006994  9.494171\n",
       "9999  0.007000  9.492425\n",
       "\n",
       "[168 rows x 2 columns]"
      ]
     },
     "execution_count": 7,
     "metadata": {},
     "output_type": "execute_result"
    }
   ],
   "source": [
    "simple_df[simple_df['ref_vt'].diff() < 0][['diameter', 'ref_vt']]"
   ]
  }
 ],
 "metadata": {
  "kernelspec": {
   "display_name": "Python 3",
   "language": "python",
   "name": "python3"
  },
  "language_info": {
   "codemirror_mode": {
    "name": "ipython",
    "version": 3
   },
   "file_extension": ".py",
   "mimetype": "text/x-python",
   "name": "python",
   "nbconvert_exporter": "python",
   "pygments_lexer": "ipython3",
   "version": "3.12.3"
  }
 },
 "nbformat": 4,
 "nbformat_minor": 5
}
