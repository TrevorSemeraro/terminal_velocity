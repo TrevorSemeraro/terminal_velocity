{
 "cells": [
  {
   "cell_type": "code",
   "execution_count": 50,
   "id": "890bf6ea",
   "metadata": {},
   "outputs": [],
   "source": [
    "import sys\n",
    "import os\n",
    "import numpy as np\n",
    "import matplotlib.pyplot as plt\n",
    "\n",
    "import sympy as sp\n",
    "from scipy.interpolate import LSQUnivariateSpline, BSpline, PPoly\n",
    "from sklearn.model_selection import KFold\n",
    "\n",
    "sys.path.append(os.path.dirname(os.getcwd()))\n",
    "\n",
    "from lib.sampler import generate_reference_data\n",
    "from lib.sympy_helper import wrap_as_function"
   ]
  },
  {
   "cell_type": "code",
   "execution_count": 51,
   "id": "8b44d392",
   "metadata": {},
   "outputs": [],
   "source": [
    "df = generate_reference_data(1000)\n",
    "x = df['diameter'].values\n",
    "y = df['v_t'].values"
   ]
  },
  {
   "cell_type": "code",
   "execution_count": null,
   "id": "3447b111",
   "metadata": {},
   "outputs": [],
   "source": [
    "def build_optimal_spline(x, y, k_min: int = 3, k_max: int = 15, n_splits: int = 5):\n",
    "    best_knot_count, best_knots, best_mse = None, None, np.inf\n",
    "\n",
    "    for knot_count in range(k_min, min(k_max, len(x) - 2)):\n",
    "        q = np.linspace(0, 1, knot_count + 2)[1:-1]\n",
    "        knots = np.quantile(x, q)\n",
    "\n",
    "        kf = KFold(n_splits=n_splits, shuffle=True, random_state=0)\n",
    "        mse = 0.0\n",
    "        for train_idx, val_idx in kf.split(x):\n",
    "            xs_tr, ys_tr = x[train_idx], y[train_idx]\n",
    "            xs_val, ys_val = x[val_idx], y[val_idx]\n",
    "\n",
    "            try:\n",
    "                model = LSQUnivariateSpline(xs_tr, ys_tr, knots, k=3)\n",
    "                mse += np.mean((model(xs_val) - ys_val) ** 2)\n",
    "            except (ValueError, np.linalg.LinAlgError):\n",
    "                mse = np.inf\n",
    "                break\n",
    "        mse /= n_splits\n",
    "\n",
    "        if mse < best_mse:\n",
    "            best_knot_count, best_knots, best_mse = knot_count, knots, mse\n",
    "\n",
    "    if best_knots is None:\n",
    "        raise RuntimeError(\"Could not fit a spline with the provided settings.\")\n",
    "\n",
    "    return LSQUnivariateSpline(x, y, best_knots, k=3), best_knots\n"
   ]
  },
  {
   "cell_type": "code",
   "execution_count": null,
   "id": "c3284708",
   "metadata": {},
   "outputs": [],
   "source": [
    "def spline_to_sympy(spline):\n",
    "    bspl  = BSpline.construct_fast(spline.get_knots(), spline.get_coeffs(), 3)\n",
    "    ppoly = PPoly.from_spline(bspl) \n",
    "    x   = sp.symbols('x')\n",
    "    deg = ppoly.c.shape[0] - 1\n",
    "\n",
    "    pieces = []\n",
    "    for i in range(ppoly.c.shape[1]):\n",
    "        coeffs = ppoly.c[:, i]\n",
    "        x0     = ppoly.x[i]\n",
    "        poly = sum(coeffs[j] * (x - x0) ** (deg - j) for j in range(deg + 1))\n",
    "\n",
    "        if i < ppoly.c.shape[1] - 1:\n",
    "            cond = (x >= ppoly.x[i]) & (x < ppoly.x[i + 1])\n",
    "        else:\n",
    "            cond = True\n",
    "        pieces.append((sp.expand(poly), cond))\n",
    "\n",
    "    return sp.Piecewise(*pieces)\n"
   ]
  },
  {
   "cell_type": "code",
   "execution_count": 54,
   "id": "2a4c8ab1",
   "metadata": {},
   "outputs": [
    {
     "name": "stdout",
     "output_type": "stream",
     "text": [
      "17\n"
     ]
    }
   ],
   "source": [
    "spline, knots = build_optimal_spline(x, y, k_min=0, k_max=20)\n",
    "print(len(knots))"
   ]
  },
  {
   "cell_type": "code",
   "execution_count": 55,
   "id": "5685055e",
   "metadata": {},
   "outputs": [
    {
     "data": {
      "text/plain": [
       "count    1.000000e+03\n",
       "mean     8.270604e-04\n",
       "std      1.037898e-03\n",
       "min      6.149807e-08\n",
       "25%      2.324236e-04\n",
       "50%      4.230737e-04\n",
       "75%      9.931048e-04\n",
       "max      1.023700e-02\n",
       "Name: rel, dtype: float64"
      ]
     },
     "execution_count": 55,
     "metadata": {},
     "output_type": "execute_result"
    }
   ],
   "source": [
    "df['pred'] = spline(df['diameter'])\n",
    "df['abs'] = np.abs(df['v_t'] - df['pred'])\n",
    "df['rel'] = df['abs'] / df['v_t']\n",
    "df['rel'].describe()"
   ]
  },
  {
   "cell_type": "code",
   "execution_count": 56,
   "id": "4014b88c",
   "metadata": {},
   "outputs": [
    {
     "data": {
      "text/plain": [
       "<matplotlib.legend.Legend at 0x245fdf01430>"
      ]
     },
     "execution_count": 56,
     "metadata": {},
     "output_type": "execute_result"
    },
    {
     "data": {
      "image/png": "[encoded data removed]",
      "text/plain": [
       "<Figure size 640x480 with 1 Axes>"
      ]
     },
     "metadata": {},
     "output_type": "display_data"
    }
   ],
   "source": [
    "plt.plot(df['diameter'], df['v_t'], linestyle=\"dashed\", label=\"truth\")\n",
    "plt.plot(df['diameter'], df['pred'], label=\"pred\")\n",
    "\n",
    "plt.legend()"
   ]
  },
  {
   "cell_type": "code",
   "execution_count": 57,
   "id": "080b8dce",
   "metadata": {},
   "outputs": [
    {
     "data": {
      "text/html": [
       "<div>\n",
       "<style scoped>\n",
       "    .dataframe tbody tr th:only-of-type {\n",
       "        vertical-align: middle;\n",
       "    }\n",
       "\n",
       "    .dataframe tbody tr th {\n",
       "        vertical-align: top;\n",
       "    }\n",
       "\n",
       "    .dataframe thead th {\n",
       "        text-align: right;\n",
       "    }\n",
       "</style>\n",
       "<table border=\"1\" class=\"dataframe\">\n",
       "  <thead>\n",
       "    <tr style=\"text-align: right;\">\n",
       "      <th></th>\n",
       "      <th>diameter</th>\n",
       "      <th>pred</th>\n",
       "    </tr>\n",
       "  </thead>\n",
       "  <tbody>\n",
       "    <tr>\n",
       "      <th>979</th>\n",
       "      <td>0.005863</td>\n",
       "      <td>9.572949</td>\n",
       "    </tr>\n",
       "    <tr>\n",
       "      <th>980</th>\n",
       "      <td>0.005915</td>\n",
       "      <td>9.572628</td>\n",
       "    </tr>\n",
       "    <tr>\n",
       "      <th>981</th>\n",
       "      <td>0.005968</td>\n",
       "      <td>9.572140</td>\n",
       "    </tr>\n",
       "    <tr>\n",
       "      <th>982</th>\n",
       "      <td>0.006021</td>\n",
       "      <td>9.571512</td>\n",
       "    </tr>\n",
       "    <tr>\n",
       "      <th>983</th>\n",
       "      <td>0.006075</td>\n",
       "      <td>9.570774</td>\n",
       "    </tr>\n",
       "    <tr>\n",
       "      <th>984</th>\n",
       "      <td>0.006129</td>\n",
       "      <td>9.569958</td>\n",
       "    </tr>\n",
       "    <tr>\n",
       "      <th>985</th>\n",
       "      <td>0.006183</td>\n",
       "      <td>9.569096</td>\n",
       "    </tr>\n",
       "    <tr>\n",
       "      <th>986</th>\n",
       "      <td>0.006238</td>\n",
       "      <td>9.568223</td>\n",
       "    </tr>\n",
       "    <tr>\n",
       "      <th>987</th>\n",
       "      <td>0.006294</td>\n",
       "      <td>9.567376</td>\n",
       "    </tr>\n",
       "    <tr>\n",
       "      <th>988</th>\n",
       "      <td>0.006350</td>\n",
       "      <td>9.566593</td>\n",
       "    </tr>\n",
       "    <tr>\n",
       "      <th>989</th>\n",
       "      <td>0.006406</td>\n",
       "      <td>9.565915</td>\n",
       "    </tr>\n",
       "    <tr>\n",
       "      <th>990</th>\n",
       "      <td>0.006463</td>\n",
       "      <td>9.565385</td>\n",
       "    </tr>\n",
       "    <tr>\n",
       "      <th>991</th>\n",
       "      <td>0.006521</td>\n",
       "      <td>9.565047</td>\n",
       "    </tr>\n",
       "    <tr>\n",
       "      <th>992</th>\n",
       "      <td>0.006579</td>\n",
       "      <td>9.564950</td>\n",
       "    </tr>\n",
       "  </tbody>\n",
       "</table>\n",
       "</div>"
      ],
      "text/plain": [
       "     diameter      pred\n",
       "979  0.005863  9.572949\n",
       "980  0.005915  9.572628\n",
       "981  0.005968  9.572140\n",
       "982  0.006021  9.571512\n",
       "983  0.006075  9.570774\n",
       "984  0.006129  9.569958\n",
       "985  0.006183  9.569096\n",
       "986  0.006238  9.568223\n",
       "987  0.006294  9.567376\n",
       "988  0.006350  9.566593\n",
       "989  0.006406  9.565915\n",
       "990  0.006463  9.565385\n",
       "991  0.006521  9.565047\n",
       "992  0.006579  9.564950"
      ]
     },
     "execution_count": 57,
     "metadata": {},
     "output_type": "execute_result"
    }
   ],
   "source": [
    "df[df['pred'].diff() < 0][['diameter', 'pred']]"
   ]
  },
  {
   "cell_type": "code",
   "execution_count": 58,
   "id": "f2d9aec3",
   "metadata": {},
   "outputs": [
    {
     "name": "stdout",
     "output_type": "stream",
     "text": [
      "PURE ELEMENTAL FUNCTION ref(x) result(res)\n",
      "    IMPLICIT NONE\n",
      "    real(kind(0d0)), INTENT(IN) :: x\n",
      "    real(kind(0d0)) :: res\n",
      "    if (x >= 1.0d-6 .and. x < 1.63538805643937d-6) then\n",
      "   res = 94291401597.654d0*x**3 + 240362.691476778d0*x**2 + &\n",
      "      2.60396454105828d0*x + 1.90040474221925d-5\n",
      "else if (x >= 1.63538805643937d-6 .and. x < 2.67444157919734d-6) then\n",
      "   res = 94291401597.654d0*x**3 + 240362.691476776d0*x**2 + &\n",
      "      2.60396454105831d0*x + 1.90040474221925d-5\n",
      "else if (x >= 2.67444157919734d-6 .and. x < 4.37374981626418d-6) then\n",
      "   res = 94291401597.654d0*x**3 + 240362.691476777d0*x**2 + &\n",
      "      2.6039645410583d0*x + 1.90040474221925d-5\n",
      "else if (x >= 4.37374981626418d-6 .and. x < 7.15263776053955d-6) then\n",
      "   res = 94291401597.654d0*x**3 + 240362.69147678d0*x**2 + &\n",
      "      2.60396454105828d0*x + 1.90040474221925d-5\n",
      "else if (x >= 7.15263776053955d-6 .and. x < 1.16973383656236d-5) then\n",
      "   res = -58349080068.3717d0*x**3 + 3515708.91033086d0*x**2 - &\n",
      "      20.8234005027578d0*x + 7.4859866036307d-5\n",
      "else if (x >= 1.16973383656236d-5 .and. x < 1.91293118277239d-5) then\n",
      "   res = 9670341887.76974d0*x**3 + 1128770.32816551d0*x**2 + &\n",
      "      7.09742775079215d0*x - 3.40065924737725d-5\n",
      "else if (x >= 1.91293118277239d-5 .and. x < 3.12838480909641d-5) then\n",
      "   res = -4220540495.63021d0*x**3 + 1925939.3901884d0*x**2 - &\n",
      "      8.15186781605778d0*x + 6.32295842100277d-5\n",
      "else if (x >= 3.12838480909641d-5 .and. x < 5.11602269334962d-5) then\n",
      "   res = 2016821310.64235d0*x**3 + 1340553.35248096d0*x**2 + &\n",
      "      10.161260062153d0*x - 0.000127738785994088d0\n",
      "else if (x >= 5.11602269334962d-5 .and. x < 8.36668240917676d-5) then\n",
      "   res = -1635487619.43952d0*x**3 + 1901112.21356363d0*x**2 - &\n",
      "      18.5170584804185d0*x + 0.000361324308908928d0\n",
      "else if (x >= 8.36668240917676d-5 .and. x < 0.000136825038112114d0) then\n",
      "   res = 233539389.815699d0*x**3 + 1431985.55154527d0*x**2 + &\n",
      "      20.7332794274295d0*x - 0.000733326063517191d0\n",
      "else if (x >= 0.000136825038112114d0 .and. x < 0.000223762033150412d0) &\n",
      "      then\n",
      "   res = -1596361380.28361d0*x**3 + 2183114.27937594d0*x**2 - &\n",
      "      82.0399373851056d0*x + 0.00395399037224269d0\n",
      "else if (x >= 0.000223762033150412d0 .and. x < 0.000365930571002297d0) &\n",
      "      then\n",
      "   res = -1260562163.81653d0*x**3 + 1957696.93315497d0*x**2 - &\n",
      "      31.60009368733d0*x + 0.000191816379708231d0\n",
      "else if (x >= 0.000365930571002297d0 .and. x < 0.000598438485303197d0) &\n",
      "      then\n",
      "   res = -680242146.516135d0*x**3 + 1320626.42727059d0*x**2 + &\n",
      "      201.523480299664d0*x - 0.0282438644680107d0\n",
      "else if (x >= 0.000598438485303197d0 .and. x < 0.000978659934187966d0) &\n",
      "      then\n",
      "   res = -109937599.813598d0*x**3 + 296749.860000009d0*x**2 + &\n",
      "      814.250622354505d0*x - 0.150470365399829d0\n",
      "else if (x >= 0.000978659934187966d0 .and. x < 0.00160048876768674d0) &\n",
      "      then\n",
      "   res = -3575003.78583384d0*x**3 - 15528.5736857703d0*x**2 + &\n",
      "      1119.86501371375d0*x - 0.250167885444674d0\n",
      "else if (x >= 0.00160048876768674d0 .and. x < 0.00261736881988683d0) &\n",
      "      then\n",
      "   res = -3575003.78583384d0*x**3 - 15528.5736857716d0*x**2 + &\n",
      "      1119.86501371375d0*x - 0.250167885444676d0\n",
      "else if (x >= 0.00261736881988683d0 .and. x < 0.00428041370733974d0) &\n",
      "      then\n",
      "   res = -3575003.78583384d0*x**3 - 15528.5736857717d0*x**2 + &\n",
      "      1119.86501371376d0*x - 0.250167885444678d0\n",
      "else\n",
      "   res = -3575003.78583384d0*x**3 - 15528.573685775d0*x**2 + &\n",
      "      1119.86501371377d0*x - 0.250167885444695d0\n",
      "end if\n",
      "END FUNCTION ref\n"
     ]
    }
   ],
   "source": [
    "sym_expr = spline_to_sympy(spline)\n",
    "code = sp.fcode(sym_expr, assign_to=\"res\", source_format=\"free\", standard=95)\n",
    "func = wrap_as_function(code, name=\"ref\", args=['x'])\n",
    "print(func)"
   ]
  }
 ],
 "metadata": {
  "kernelspec": {
   "display_name": "Python 3",
   "language": "python",
   "name": "python3"
  },
  "language_info": {
   "codemirror_mode": {
    "name": "ipython",
    "version": 3
   },
   "file_extension": ".py",
   "mimetype": "text/x-python",
   "name": "python",
   "nbconvert_exporter": "python",
   "pygments_lexer": "ipython3",
   "version": "3.12.3"
  }
 },
 "nbformat": 4,
 "nbformat_minor": 5
}
