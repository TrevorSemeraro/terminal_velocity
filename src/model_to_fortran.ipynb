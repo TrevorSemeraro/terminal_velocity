{
 "cells": [
  {
   "cell_type": "code",
   "execution_count": 1,
   "id": "0f67ecef",
   "metadata": {},
   "outputs": [],
   "source": [
    "import sys\n",
    "from __future__ import annotations\n",
    "import os\n",
    "import pandas as pd\n",
    "import sympy as sp\n",
    "\n",
    "sys.path.append(os.path.dirname(os.getcwd()))\n",
    "\n",
    "from lib.sympy_helper import generate_fortran_code, wrap_as_function, normalise"
   ]
  },
  {
   "cell_type": "code",
   "execution_count": 2,
   "id": "0ae4a77f",
   "metadata": {},
   "outputs": [
    {
     "name": "stdout",
     "output_type": "stream",
     "text": [
      "square(Abs((x2/(x2*pow16(0.8318084011384359) + 1.3033743673482436*x2 - 2.0278840381812153*(-928.74288057389932 + 4.1969049207538868*(x2 - 44.674122117495778)/x3)*(x3 + square(2.4920527810962025))/(x2 + (-453.47519177667665*x1*x2 + 0.0004743866482471975*pow8(-0.7711116679941776)/x1**2)/Abs(5594025.1837800374*x1**3 - 0.05528710792205269*x2 + 25.071331867730663)) - 101.64243612640218))**0.9427448586559175))\n",
      "Abs((x2/(0.8318084011384359**16*x2 + 1.3033743673482436*x2 - 2.0278840381812153*(-928.74288057389932 + 4.1969049207538868*(x2 - 44.674122117495778)/x3)*(x3 + 2.4920527810962025**2)/(x2 + (-453.47519177667665*x1*x2 + 0.0004743866482471975*(-0.7711116679941776)**8/x1**2)/Abs(5594025.1837800374*x1**3 - 0.05528710792205269*x2 + 25.071331867730663)) - 101.64243612640218))**0.9427448586559175)**2\n"
     ]
    }
   ],
   "source": [
    "csv_path = f\"../outputs/max-corr-5/hall_of_fame.csv\"\n",
    "equation_df = pd.read_csv(csv_path)\n",
    "best_equation = equation_df.iloc[-1]['Equation']\n",
    "sympy_expr = sp.sympify(best_equation)\n",
    "print(sympy_expr)\n",
    "sympy_expr_clean = normalise(sympy_expr)\n",
    "print(sympy_expr_clean)"
   ]
  },
  {
   "cell_type": "code",
   "execution_count": 3,
   "id": "a87b2bf5",
   "metadata": {},
   "outputs": [],
   "source": [
    "ref_max_complexity = 68\n",
    "corr_max_complexity = 100\n",
    "\n",
    "ref_expr, ref_code = generate_fortran_code(\"msre-ref-4\", max_complexity=ref_max_complexity)\n",
    "corr_expr, corr_code = generate_fortran_code(\"max-corr-5\", max_complexity=corr_max_complexity)"
   ]
  },
  {
   "cell_type": "code",
   "execution_count": 4,
   "id": "37e90041",
   "metadata": {},
   "outputs": [
    {
     "name": "stdout",
     "output_type": "stream",
     "text": [
      "PURE ELEMENTAL FUNCTION min_ref(x1) result(res)\n",
      "        IMPLICIT NONE\n",
      "            real(kind(0d0)), INTENT(IN) :: x1\n",
      "        real(kind(0d0)) :: res\n",
      "        res = (24.577503098687846d0*x1 - 9.833516965546338d0/( &\n",
      "      2.683145025224074d0 - 0.7198048281825444d0/(-abs( &\n",
      "      0.3378666219187161d0 - 2.529907013476554d0/(0.5109283913335468d0 &\n",
      "      - 0.0019830203447073792d0/x1)) + 0.09022045044656467d0/( &\n",
      "      -38.204695171459442d0*x1/(-0.21779415215862336d0)**2 + &\n",
      "      0.15999162529675903d0)) + 0.0017739234165219686d0/x1))**2\n",
      "    END FUNCTION min_ref\n",
      "PURE ELEMENTAL FUNCTION min_corr(x1, x2, x3) result(res)\n",
      "        IMPLICIT NONE\n",
      "            real(kind(0d0)), INTENT(IN) :: x1\n",
      "    real(kind(0d0)), INTENT(IN) :: x2\n",
      "    real(kind(0d0)), INTENT(IN) :: x3\n",
      "        real(kind(0d0)) :: res\n",
      "        res = abs(x2**2/(0.052402248617831146d0*abs(x2) + abs(x2 + &\n",
      "      9.569028026412478d0*(1869.6799115010711d0 - 8.0512265548176943d0* &\n",
      "      (x2 - 42.873686952706809d0)/x3)/(x2 + 0.065921659380834839d0/(x1* &\n",
      "      x3)) + (0.0062625065005005198d0*x2 - 1.4470731375012897d0)/(x1 + &\n",
      "      0.018806424953245368d0)) - 33.132060806498476d0)**2)\n",
      "    END FUNCTION min_corr\n"
     ]
    }
   ],
   "source": [
    "ref_args = sorted(ref_expr.free_symbols, key=lambda s: s.name)\n",
    "corr_args = sorted(corr_expr.free_symbols, key=lambda s: s.name)\n",
    "\n",
    "ref_block = wrap_as_function(ref_code, name=\"ref\", args=[a.name for a in ref_args], max_complexity=ref_max_complexity)\n",
    "corr_block = wrap_as_function(corr_code, name=\"corr\", args=[a.name for a in corr_args], max_complexity=corr_max_complexity)\n",
    "print(ref_block)\n",
    "print(corr_block)"
   ]
  }
 ],
 "metadata": {
  "kernelspec": {
   "display_name": "Python 3",
   "language": "python",
   "name": "python3"
  },
  "language_info": {
   "codemirror_mode": {
    "name": "ipython",
    "version": 3
   },
   "file_extension": ".py",
   "mimetype": "text/x-python",
   "name": "python",
   "nbconvert_exporter": "python",
   "pygments_lexer": "ipython3",
   "version": "3.12.3"
  }
 },
 "nbformat": 4,
 "nbformat_minor": 5
}
