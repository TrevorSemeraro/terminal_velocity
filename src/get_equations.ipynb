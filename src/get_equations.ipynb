{
 "cells": [
  {
   "cell_type": "code",
   "execution_count": 109,
   "id": "33460d26",
   "metadata": {},
   "outputs": [],
   "source": [
    "from typing import Tuple\n",
    "import pandas as pd\n",
    "import sympy as sp\n",
    "import sys\n",
    "import os\n",
    "import json\n",
    "\n",
    "sys.path.append(os.path.dirname(os.getcwd()))\n",
    "\n",
    "from lib.sympy_helper import normalise"
   ]
  },
  {
   "cell_type": "code",
   "execution_count": 110,
   "id": "9629ea09",
   "metadata": {},
   "outputs": [],
   "source": [
    "reference_csv = f\"../outputs/max-corr-5/hall_of_fame.csv\"\n",
    "max_reference_complexity = None\n",
    "correction_csv = f\"../outputs/msre-ref-4/hall_of_fame.csv\"\n",
    "max_correction_complexity = None"
   ]
  },
  {
   "cell_type": "code",
   "execution_count": 111,
   "id": "5b1102a7",
   "metadata": {},
   "outputs": [],
   "source": [
    "d, t, ρ, σ = sp.symbols('d, t, ρ, σ')\n",
    "variable_replacement_map = {\n",
    "    \"x1\": d,\n",
    "    \"x2\": t,\n",
    "    \"x3\": ρ,\n",
    "    \"x4\": σ\n",
    "}"
   ]
  },
  {
   "cell_type": "code",
   "execution_count": 112,
   "id": "b1ce406a",
   "metadata": {},
   "outputs": [],
   "source": [
    "reference_equations = pd.read_csv(correction_csv)\n",
    "if max_reference_complexity == None:\n",
    "    reference_equation = reference_equations.iloc[-1]['Equation']\n",
    "else:\n",
    "    mask = reference_equations[\"Complexity\"] <= max_reference_complexity\n",
    "    idx = reference_equations.loc[mask, \"Complexity\"].idxmax()\n",
    "    reference_equation = reference_equations.loc[idx]['Equation']\n",
    "sympy_reference_unnormalized = sp.sympify(reference_equation)\n",
    "sympy_reference = normalise(sympy_reference_unnormalized)\n",
    "\n",
    "\n",
    "correction_equations = pd.read_csv(reference_csv)\n",
    "if max_correction_complexity == None:\n",
    "    correction_equation = correction_equations.iloc[-1]['Equation']\n",
    "else:\n",
    "    mask = correction_equations[\"Complexity\"] <= max_correction_complexity\n",
    "    idx = correction_equations.loc[mask, \"Complexity\"].idxmax()\n",
    "    correction_equation = correction_equations.loc[idx]['Equation']\n",
    "sympy_correction_unnormalized = sp.sympify(correction_equation)\n",
    "sympy_correction = normalise(sympy_correction_unnormalized)"
   ]
  },
  {
   "cell_type": "code",
   "execution_count": 113,
   "id": "12899488",
   "metadata": {},
   "outputs": [],
   "source": [
    "def get_constant_equation(eq: sp.Expr) -> Tuple[dict, str]:\n",
    "    def _new_const(counter):\n",
    "        name = f'c{counter}'\n",
    "        return sp.Symbol(name)\n",
    "    eq = eq.subs(variable_replacement_map)\n",
    "\n",
    "    replacements = {}\n",
    "    default_values = []\n",
    "    constants = []\n",
    "    counter = 0\n",
    "    for node in sp.preorder_traversal(eq):    \n",
    "        if isinstance(node, sp.Number) and node not in replacements:\n",
    "            c = _new_const(counter)\n",
    "            counter += 1\n",
    "            replacements[node] = c\n",
    "            default_values.append(node)\n",
    "            constants.append(c)\n",
    "\n",
    "    expr_with_constants = eq.xreplace(replacements)\n",
    "\n",
    "    constant_equation = sp.latex(expr_with_constants)\n",
    "    flipped_dict = {str(value): str(key) for key, value in replacements.items()}\n",
    "    return flipped_dict, constant_equation"
   ]
  },
  {
   "cell_type": "code",
   "execution_count": 114,
   "id": "809b5781",
   "metadata": {},
   "outputs": [],
   "source": [
    "ref_replacements, ref_latex = get_constant_equation(sympy_reference)\n",
    "corr_replacements, corr_latex = get_constant_equation(sympy_correction)"
   ]
  },
  {
   "cell_type": "code",
   "execution_count": 115,
   "id": "f754a59e",
   "metadata": {},
   "outputs": [
    {
     "data": {
      "text/plain": [
       "'\\\\left(c_{0} t \\\\left(c_{1} + c_{11} \\\\left(c_{10} d t \\\\left|{c_{6} + c_{7} d^{c_{8}} + c_{9} t}\\\\right|^{c_{0}} + c_{4} d^{c_{5}} \\\\left|{c_{6} + c_{7} d^{c_{8}} + c_{9} t}\\\\right|^{c_{0}} + t\\\\right)^{c_{0}} + c_{12} t \\\\left(c_{10} d t \\\\left|{c_{6} + c_{7} d^{c_{8}} + c_{9} t}\\\\right|^{c_{0}} + c_{4} d^{c_{5}} \\\\left|{c_{6} + c_{7} d^{c_{8}} + c_{9} t}\\\\right|^{c_{0}} + t\\\\right)^{c_{0}} + c_{13} t \\\\left(c_{10} d t ρ \\\\left|{c_{6} + c_{7} d^{c_{8}} + c_{9} t}\\\\right|^{c_{0}} + c_{4} d^{c_{5}} ρ \\\\left|{c_{6} + c_{7} d^{c_{8}} + c_{9} t}\\\\right|^{c_{0}} + t ρ\\\\right)^{c_{0}} + c_{14} ρ \\\\left(c_{10} d t \\\\left|{c_{6} + c_{7} d^{c_{8}} + c_{9} t}\\\\right|^{c_{0}} + c_{4} d^{c_{5}} \\\\left|{c_{6} + c_{7} d^{c_{8}} + c_{9} t}\\\\right|^{c_{0}} + t\\\\right)^{c_{0}} + c_{2} t + c_{3} \\\\left(c_{10} d t ρ \\\\left|{c_{6} + c_{7} d^{c_{8}} + c_{9} t}\\\\right|^{c_{0}} + c_{4} d^{c_{5}} ρ \\\\left|{c_{6} + c_{7} d^{c_{8}} + c_{9} t}\\\\right|^{c_{0}} + t ρ\\\\right)^{c_{0}}\\\\right)^{c_{0}}\\\\right)^{c_{15}} \\\\overline{\\\\left(t \\\\left(c_{16} + c_{17} t + c_{18} \\\\left(c_{10} d t ρ \\\\left|{c_{6} + c_{7} d^{c_{8}} + c_{9} t}\\\\right|^{c_{0}} + c_{4} d^{c_{5}} ρ \\\\left|{c_{6} + c_{7} d^{c_{8}} + c_{9} t}\\\\right|^{c_{0}} + t ρ\\\\right)^{c_{0}} + c_{19} \\\\left(c_{10} d t \\\\left|{c_{6} + c_{7} d^{c_{8}} + c_{9} t}\\\\right|^{c_{0}} + c_{4} d^{c_{5}} \\\\left|{c_{6} + c_{7} d^{c_{8}} + c_{9} t}\\\\right|^{c_{0}} + t\\\\right)^{c_{0}} + c_{20} ρ \\\\left(c_{10} d t \\\\left|{c_{6} + c_{7} d^{c_{8}} + c_{9} t}\\\\right|^{c_{0}} + c_{4} d^{c_{5}} \\\\left|{c_{6} + c_{7} d^{c_{8}} + c_{9} t}\\\\right|^{c_{0}} + t\\\\right)^{c_{0}} + c_{21} t \\\\left(c_{10} d t \\\\left|{c_{6} + c_{7} d^{c_{8}} + c_{9} t}\\\\right|^{c_{0}} + c_{4} d^{c_{5}} \\\\left|{c_{6} + c_{7} d^{c_{8}} + c_{9} t}\\\\right|^{c_{0}} + t\\\\right)^{c_{0}} + c_{22} t \\\\left(c_{10} d t ρ \\\\left|{c_{6} + c_{7} d^{c_{8}} + c_{9} t}\\\\right|^{c_{0}} + c_{4} d^{c_{5}} ρ \\\\left|{c_{6} + c_{7} d^{c_{8}} + c_{9} t}\\\\right|^{c_{0}} + t ρ\\\\right)^{c_{0}}\\\\right)^{c_{0}}\\\\right)^{c_{15}}}'"
      ]
     },
     "execution_count": 115,
     "metadata": {},
     "output_type": "execute_result"
    }
   ],
   "source": [
    "corr_latex"
   ]
  },
  {
   "cell_type": "code",
   "execution_count": 116,
   "id": "649ed5fd",
   "metadata": {},
   "outputs": [],
   "source": [
    "prefix = \"reference\"\n",
    "if max_reference_complexity:\n",
    "    prefix += f\"_{max_reference_complexity}\"\n",
    "with open(f'../{prefix}_constants.json', 'w') as json_file:\n",
    "    json.dump(ref_replacements, json_file, indent=4)\n",
    "with open(f'../{prefix}_latex.txt', 'w') as f:\n",
    "    f.write(ref_latex)"
   ]
  },
  {
   "cell_type": "code",
   "execution_count": 117,
   "id": "d9639af1",
   "metadata": {},
   "outputs": [],
   "source": [
    "prefix = \"correction\"\n",
    "if max_reference_complexity:\n",
    "    prefix += f\"_{max_reference_complexity}\"\n",
    "with open(f'../{prefix}_constants.json', 'w') as json_file:\n",
    "    json.dump(corr_replacements, json_file, indent=4)\n",
    "with open(f'../{prefix}_latex.txt', 'w', encoding=\"utf-8\") as f:\n",
    "    f.write(corr_latex)"
   ]
  }
 ],
 "metadata": {
  "kernelspec": {
   "display_name": "Python 3",
   "language": "python",
   "name": "python3"
  },
  "language_info": {
   "codemirror_mode": {
    "name": "ipython",
    "version": 3
   },
   "file_extension": ".py",
   "mimetype": "text/x-python",
   "name": "python",
   "nbconvert_exporter": "python",
   "pygments_lexer": "ipython3",
   "version": "3.12.3"
  }
 },
 "nbformat": 4,
 "nbformat_minor": 5
}
